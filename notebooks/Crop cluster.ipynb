{
 "cells": [
  {
   "cell_type": "code",
   "execution_count": 67,
   "id": "e4697638",
   "metadata": {},
   "outputs": [
    {
     "name": "stdout",
     "output_type": "stream",
     "text": [
      "   Nitrogen  phosphorus  potassium  temperature   humidity        ph  \\\n",
      "0        90          42         43    20.879744  82.002744  6.502985   \n",
      "1        85          58         41    21.770462  80.319644  7.038096   \n",
      "2        60          55         44    23.004459  82.320763  7.840207   \n",
      "3        74          35         40    26.491096  80.158363  6.980401   \n",
      "4        78          42         42    20.130175  81.604873  7.628473   \n",
      "\n",
      "     rainfall label  env_cluster  \n",
      "0  202.935536  rice            2  \n",
      "1  226.655537  rice            2  \n",
      "2  263.964248  rice            2  \n",
      "3  242.864034  rice            2  \n",
      "4  262.717340  rice            2  \n"
     ]
    }
   ],
   "source": [
    "import pandas as pd\n",
    "df = pd.read_csv(\"Crop_recommendation_with_clusters.csv\")\n",
    "print(df.head())"
   ]
  },
  {
   "cell_type": "code",
   "execution_count": 68,
   "id": "f314af8c",
   "metadata": {},
   "outputs": [],
   "source": [
    "features = df.drop(columns=[\"label\", \"Crop\", \"cluster\"], errors=\"ignore\")  # Adjust column names if needed"
   ]
  },
  {
   "cell_type": "code",
   "execution_count": 69,
   "id": "4d41608f",
   "metadata": {},
   "outputs": [
    {
     "name": "stdout",
     "output_type": "stream",
     "text": [
      "              precision    recall  f1-score   support\n",
      "\n",
      "           0       1.00      1.00      1.00        44\n",
      "           1       1.00      1.00      1.00       221\n",
      "           2       1.00      1.00      1.00        97\n",
      "           3       1.00      1.00      1.00        78\n",
      "\n",
      "    accuracy                           1.00       440\n",
      "   macro avg       1.00      1.00      1.00       440\n",
      "weighted avg       1.00      1.00      1.00       440\n",
      "\n"
     ]
    }
   ],
   "source": [
    "import xgboost as xgb\n",
    "from sklearn.model_selection import train_test_split\n",
    "from sklearn.metrics import classification_report\n",
    "\n",
    "X = features\n",
    "y = df[\"env_cluster\"]  # Ensure this column exists\n",
    "\n",
    "X_train, X_test, y_train, y_test = train_test_split(X, y, test_size=0.2, random_state=42)\n",
    "\n",
    "model = xgb.XGBClassifier()\n",
    "model.fit(X_train, y_train)\n",
    "\n",
    "y_pred = model.predict(X_test)\n",
    "print(classification_report(y_test, y_pred))"
   ]
  },
  {
   "cell_type": "code",
   "execution_count": 70,
   "id": "dbbebab5",
   "metadata": {},
   "outputs": [
    {
     "name": "stdout",
     "output_type": "stream",
     "text": [
      "env_cluster\n",
      "1    1212\n",
      "2     447\n",
      "3     347\n",
      "0     194\n",
      "Name: count, dtype: int64\n"
     ]
    }
   ],
   "source": [
    "print(df[\"env_cluster\"].value_counts())"
   ]
  },
  {
   "cell_type": "code",
   "execution_count": 71,
   "id": "d4ed7b26",
   "metadata": {},
   "outputs": [
    {
     "name": "stdout",
     "output_type": "stream",
     "text": [
      "                                                         label\n",
      "env_cluster                                                   \n",
      "0            [chickpea, chickpea, chickpea, chickpea, chick...\n",
      "1            [maize, maize, maize, maize, maize, maize, mai...\n",
      "2            [rice, rice, rice, rice, rice, rice, rice, ric...\n",
      "3            [maize, maize, maize, maize, maize, maize, kid...\n"
     ]
    }
   ],
   "source": [
    "grouped = df[[\"label\", \"env_cluster\"]].groupby(\"env_cluster\").agg(list)\n",
    "print(grouped)"
   ]
  },
  {
   "cell_type": "code",
   "execution_count": 72,
   "id": "e9f502c9",
   "metadata": {},
   "outputs": [
    {
     "name": "stdout",
     "output_type": "stream",
     "text": [
      "\n",
      "🌾 Cluster 0:\n",
      " - chickpea\n",
      " - kidneybeans\n",
      "\n",
      "🌾 Cluster 1:\n",
      " - maize\n",
      " - pigeonpeas\n",
      " - mothbeans\n",
      " - mungbean\n",
      " - blackgram\n",
      " - lentil\n",
      " - pomegranate\n",
      " - banana\n",
      " - mango\n",
      " - grapes\n",
      " - watermelon\n",
      " - muskmelon\n",
      " - apple\n",
      " - orange\n",
      " - papaya\n",
      " - cotton\n",
      "\n",
      "🌾 Cluster 2:\n",
      " - rice\n",
      " - maize\n",
      " - pigeonpeas\n",
      " - banana\n",
      " - orange\n",
      " - papaya\n",
      " - coconut\n",
      " - jute\n",
      " - coffee\n",
      "\n",
      "🌾 Cluster 3:\n",
      " - maize\n",
      " - kidneybeans\n",
      " - pigeonpeas\n",
      " - mothbeans\n",
      " - blackgram\n",
      " - mango\n",
      " - grapes\n",
      " - orange\n",
      " - papaya\n",
      " - coffee\n"
     ]
    }
   ],
   "source": [
    "for cluster in sorted(df[\"env_cluster\"].unique()):\n",
    "    crops = df[df[\"env_cluster\"] == cluster][\"label\"].unique()\n",
    "    print(f\"\\n🌾 Cluster {cluster}:\")\n",
    "    for crop in crops:\n",
    "        print(f\" - {crop}\")"
   ]
  },
  {
   "cell_type": "code",
   "execution_count": 73,
   "id": "141ca290",
   "metadata": {},
   "outputs": [],
   "source": [
    "from sklearn.cluster import KMeans\n",
    "from sklearn.preprocessing import StandardScaler\n",
    "\n",
    "X = df.drop(columns=[\"label\", \"env_cluster\", \"cluster_group\"], errors=\"ignore\")\n",
    "scaler = StandardScaler()\n",
    "X_scaled = scaler.fit_transform(X)"
   ]
  },
  {
   "cell_type": "code",
   "execution_count": 74,
   "id": "887b0406",
   "metadata": {},
   "outputs": [],
   "source": [
    "kmeans = KMeans(n_clusters=8, random_state=42)\n",
    "df[\"kmeans_cluster\"] = kmeans.fit_predict(X_scaled)"
   ]
  },
  {
   "cell_type": "code",
   "execution_count": 75,
   "id": "e1b051f4",
   "metadata": {},
   "outputs": [
    {
     "name": "stdout",
     "output_type": "stream",
     "text": [
      "\n",
      "🌾 KMeans Cluster 0:\n",
      " - maize\n",
      " - pigeonpeas\n",
      " - mothbeans\n",
      " - mungbean\n",
      " - blackgram\n",
      " - lentil\n",
      " - mango\n",
      " - orange\n",
      " - papaya\n",
      "\n",
      "🌾 KMeans Cluster 1:\n",
      " - rice\n",
      " - pigeonpeas\n",
      " - papaya\n",
      " - jute\n",
      " - coffee\n",
      "\n",
      "🌾 KMeans Cluster 2:\n",
      " - maize\n",
      " - banana\n",
      " - watermelon\n",
      " - muskmelon\n",
      " - papaya\n",
      " - cotton\n",
      " - coffee\n",
      "\n",
      "🌾 KMeans Cluster 3:\n",
      " - grapes\n",
      " - apple\n",
      "\n",
      "🌾 KMeans Cluster 4:\n",
      " - maize\n",
      " - chickpea\n",
      " - kidneybeans\n",
      " - pigeonpeas\n",
      " - mothbeans\n",
      " - lentil\n",
      "\n",
      "🌾 KMeans Cluster 5:\n",
      " - pomegranate\n",
      " - orange\n",
      " - papaya\n",
      " - coconut\n",
      "\n",
      "🌾 KMeans Cluster 6:\n",
      " - pigeonpeas\n",
      " - mothbeans\n",
      " - blackgram\n",
      " - mango\n",
      " - orange\n",
      " - papaya\n",
      "\n",
      "🌾 KMeans Cluster 7:\n",
      " - chickpea\n"
     ]
    }
   ],
   "source": [
    "for cluster in sorted(df[\"kmeans_cluster\"].unique()):\n",
    "    crops = df[df[\"kmeans_cluster\"] == cluster][\"label\"].unique()\n",
    "    print(f\"\\n🌾 KMeans Cluster {cluster}:\")\n",
    "    for crop in crops:\n",
    "        print(f\" - {crop}\")"
   ]
  },
  {
   "cell_type": "code",
   "execution_count": 76,
   "id": "2e7678f7",
   "metadata": {},
   "outputs": [
    {
     "name": "stdout",
     "output_type": "stream",
     "text": [
      "kmeans_cluster\n",
      "2    523\n",
      "0    392\n",
      "1    310\n",
      "5    288\n",
      "6    217\n",
      "3    200\n",
      "4    171\n",
      "7     99\n",
      "Name: count, dtype: int64\n"
     ]
    }
   ],
   "source": [
    "print(df[\"kmeans_cluster\"].value_counts())"
   ]
  },
  {
   "cell_type": "code",
   "execution_count": 77,
   "id": "4940d007",
   "metadata": {},
   "outputs": [
    {
     "name": "stdout",
     "output_type": "stream",
     "text": [
      "     label  kmeans_cluster\n",
      "100  maize               2\n",
      "101  maize               0\n",
      "102  maize               2\n",
      "103  maize               2\n",
      "104  maize               2\n",
      "..     ...             ...\n",
      "195  maize               2\n",
      "196  maize               2\n",
      "197  maize               2\n",
      "198  maize               2\n",
      "199  maize               2\n",
      "\n",
      "[100 rows x 2 columns]\n"
     ]
    }
   ],
   "source": [
    "print(df[df[\"label\"] == \"maize\"][[\"label\", \"kmeans_cluster\"]])"
   ]
  },
  {
   "cell_type": "code",
   "execution_count": 78,
   "id": "00410a07",
   "metadata": {},
   "outputs": [],
   "source": [
    "avg_df = df.groupby(\"label\").mean(numeric_only=True)"
   ]
  },
  {
   "cell_type": "code",
   "execution_count": 79,
   "id": "4a764d9c",
   "metadata": {},
   "outputs": [],
   "source": [
    "from sklearn.cluster import KMeans\n",
    "from sklearn.preprocessing import StandardScaler\n",
    "\n",
    "scaler = StandardScaler()\n",
    "X_avg_scaled = scaler.fit_transform(avg_df)\n",
    "\n",
    "kmeans = KMeans(n_clusters=5, random_state=42)\n",
    "avg_df[\"cluster\"] = kmeans.fit_predict(X_avg_scaled)"
   ]
  },
  {
   "cell_type": "code",
   "execution_count": 80,
   "id": "f6c7a863",
   "metadata": {},
   "outputs": [
    {
     "name": "stdout",
     "output_type": "stream",
     "text": [
      "\n",
      "🌾 Averaged Cluster 0: (5 crops)\n",
      " - coconut\n",
      " - coffee\n",
      " - jute\n",
      " - papaya\n",
      " - rice\n",
      "\n",
      "🌾 Averaged Cluster 1: (4 crops)\n",
      " - chickpea\n",
      " - kidneybeans\n",
      " - orange\n",
      " - pomegranate\n",
      "\n",
      "🌾 Averaged Cluster 2: (2 crops)\n",
      " - apple\n",
      " - grapes\n",
      "\n",
      "🌾 Averaged Cluster 3: (6 crops)\n",
      " - blackgram\n",
      " - lentil\n",
      " - mango\n",
      " - mothbeans\n",
      " - mungbean\n",
      " - pigeonpeas\n",
      "\n",
      "🌾 Averaged Cluster 4: (5 crops)\n",
      " - banana\n",
      " - cotton\n",
      " - maize\n",
      " - muskmelon\n",
      " - watermelon\n"
     ]
    }
   ],
   "source": [
    "for cluster in sorted(avg_df[\"cluster\"].unique()):\n",
    "    crops = avg_df[avg_df[\"cluster\"] == cluster].index.tolist()\n",
    "    print(f\"\\n🌾 Averaged Cluster {cluster}: ({len(crops)} crops)\")\n",
    "    for crop in crops:\n",
    "        print(f\" - {crop}\")"
   ]
  },
  {
   "cell_type": "code",
   "execution_count": 81,
   "id": "c25373ed",
   "metadata": {},
   "outputs": [
    {
     "name": "stdout",
     "output_type": "stream",
     "text": [
      "\n",
      "🔍 Sub-Cluster 0 inside Cluster 3:\n",
      " - mango\n",
      " - pigeonpeas\n",
      "\n",
      "🔍 Sub-Cluster 1 inside Cluster 3:\n",
      " - blackgram\n",
      " - lentil\n",
      " - mothbeans\n",
      " - mungbean\n"
     ]
    },
    {
     "name": "stderr",
     "output_type": "stream",
     "text": [
      "/var/folders/cf/zn4dq46s1rx6x1s67d5x5v440000gn/T/ipykernel_71680/4265555071.py:8: SettingWithCopyWarning: \n",
      "A value is trying to be set on a copy of a slice from a DataFrame.\n",
      "Try using .loc[row_indexer,col_indexer] = value instead\n",
      "\n",
      "See the caveats in the documentation: https://pandas.pydata.org/pandas-docs/stable/user_guide/indexing.html#returning-a-view-versus-a-copy\n",
      "  cluster_3_crops[\"sub_cluster\"] = kmeans_sub.fit_predict(X_sub)\n"
     ]
    }
   ],
   "source": [
    "cluster_3_crops = avg_df[avg_df[\"cluster\"] == 3]\n",
    "\n",
    "# Reclustering with 2 sub-clusters inside\n",
    "from sklearn.cluster import KMeans\n",
    "\n",
    "X_sub = cluster_3_crops.drop(columns=\"cluster\")\n",
    "kmeans_sub = KMeans(n_clusters=2, random_state=42)\n",
    "cluster_3_crops[\"sub_cluster\"] = kmeans_sub.fit_predict(X_sub)\n",
    "\n",
    "# View refined groups\n",
    "for sub in sorted(cluster_3_crops[\"sub_cluster\"].unique()):\n",
    "    crops = cluster_3_crops[cluster_3_crops[\"sub_cluster\"] == sub].index.tolist()\n",
    "    print(f\"\\n🔍 Sub-Cluster {sub} inside Cluster 3:\")\n",
    "    for crop in crops:\n",
    "        print(f\" - {crop}\")"
   ]
  },
  {
   "cell_type": "code",
   "execution_count": 82,
   "id": "b3499a4d",
   "metadata": {},
   "outputs": [
    {
     "data": {
      "image/png": "[encoded data removed]",
      "text/plain": [
       "<Figure size 1000x600 with 1 Axes>"
      ]
     },
     "metadata": {},
     "output_type": "display_data"
    }
   ],
   "source": [
    "from scipy.cluster.hierarchy import linkage, dendrogram, fcluster\n",
    "import matplotlib.pyplot as plt\n",
    "\n",
    "linked = linkage(X_avg_scaled, method='ward')\n",
    "plt.figure(figsize=(10, 6))\n",
    "dendrogram(linked, labels=avg_df.index.tolist(), leaf_rotation=90)\n",
    "plt.title(\"Hierarchical Clustering Dendrogram\")\n",
    "plt.show()\n",
    "\n",
    "# Cut tree into, say, 6 clusters\n",
    "avg_df[\"cluster\"] = fcluster(linked, t=6, criterion='maxclust') - 1"
   ]
  },
  {
   "cell_type": "markdown",
   "id": "e289d332",
   "metadata": {},
   "source": [
    "***How to read it:***\n",
    "\n",
    "- apple and grapes merge at a very low Y-axis level → they're very similar.\n",
    "\n",
    "- mango and kidneybeans are far apart → they only merge when the tree is high up → less similar.\n",
    "\n",
    "- When you cut the tree horizontally at any height, you form a certain number of clusters."
   ]
  },
  {
   "cell_type": "code",
   "execution_count": 83,
   "id": "4bb1e436",
   "metadata": {},
   "outputs": [
    {
     "data": {
      "image/png": "[encoded data removed]",
      "text/plain": [
       "<Figure size 640x480 with 1 Axes>"
      ]
     },
     "metadata": {},
     "output_type": "display_data"
    }
   ],
   "source": [
    "from scipy.cluster.hierarchy import set_link_color_palette\n",
    "\n",
    "set_link_color_palette(['red', 'green', 'blue', 'purple', 'orange', 'cyan'])\n",
    "dendrogram(linked,\n",
    "           labels=avg_df.index.tolist(),\n",
    "           leaf_rotation=90,\n",
    "           color_threshold=5,   # Set a threshold where color changes\n",
    "           above_threshold_color='grey')\n",
    "plt.title(\"Hierarchical Clustering with Color Splits\")\n",
    "plt.show()"
   ]
  },
  {
   "cell_type": "code",
   "execution_count": 84,
   "id": "df003e01",
   "metadata": {},
   "outputs": [
    {
     "name": "stdout",
     "output_type": "stream",
     "text": [
      "\n",
      " Cluster 0 (2 crops):\n",
      " - apple\n",
      " - grapes\n",
      "\n",
      " Cluster 1 (2 crops):\n",
      " - chickpea\n",
      " - kidneybeans\n",
      "\n",
      " Cluster 2 (4 crops):\n",
      " - coconut\n",
      " - mango\n",
      " - papaya\n",
      " - pigeonpeas\n",
      "\n",
      " Cluster 3 (4 crops):\n",
      " - blackgram\n",
      " - lentil\n",
      " - mothbeans\n",
      " - mungbean\n",
      "\n",
      " Cluster 4 (3 crops):\n",
      " - coffee\n",
      " - jute\n",
      " - rice\n",
      "\n",
      " Cluster 5 (7 crops):\n",
      " - banana\n",
      " - cotton\n",
      " - maize\n",
      " - muskmelon\n",
      " - orange\n",
      " - pomegranate\n",
      " - watermelon\n"
     ]
    }
   ],
   "source": [
    "for cluster_id in sorted(avg_df[\"cluster\"].unique()):\n",
    "    crops = avg_df[avg_df[\"cluster\"] == cluster_id].index.tolist()\n",
    "    print(f\"\\n Cluster {cluster_id} ({len(crops)} crops):\")\n",
    "    for crop in crops:\n",
    "        print(f\" - {crop}\")"
   ]
  },
  {
   "cell_type": "code",
   "execution_count": 85,
   "id": "d77fe254",
   "metadata": {},
   "outputs": [],
   "source": [
    "from sklearn.decomposition import PCA\n",
    "import matplotlib.pyplot as plt"
   ]
  },
  {
   "cell_type": "code",
   "execution_count": 86,
   "id": "e98218b9",
   "metadata": {},
   "outputs": [],
   "source": [
    "# X_avg_scaled is your scaled feature matrix from earlier\n",
    "pca = PCA(n_components=2)\n",
    "X_pca = pca.fit_transform(X_avg_scaled)\n"
   ]
  },
  {
   "cell_type": "code",
   "execution_count": 87,
   "id": "e9d4563a",
   "metadata": {},
   "outputs": [
    {
     "name": "stderr",
     "output_type": "stream",
     "text": [
      "/Users/yoyolin/Library/Python/3.9/lib/python/site-packages/IPython/core/pylabtools.py:152: UserWarning: Glyph 127806 (\\N{EAR OF RICE}) missing from font(s) DejaVu Sans.\n",
      "  fig.canvas.print_figure(bytes_io, **kw)\n"
     ]
    },
    {
     "data": {
      "image/png": "[encoded data removed]",
      "text/plain": [
       "<Figure size 1000x600 with 1 Axes>"
      ]
     },
     "metadata": {},
     "output_type": "display_data"
    }
   ],
   "source": [
    "plt.figure(figsize=(10, 6))\n",
    "\n",
    "# Plot each crop as a point\n",
    "scatter = plt.scatter(\n",
    "    X_pca[:, 0], X_pca[:, 1],\n",
    "    c=avg_df[\"cluster\"],\n",
    "    cmap='tab10',  # Gives nice 10-class color scheme\n",
    "    s=100, edgecolors='k'\n",
    ")\n",
    "\n",
    "# Add crop names as annotations\n",
    "for i, label in enumerate(avg_df.index):\n",
    "    plt.text(X_pca[i, 0]+0.1, X_pca[i, 1], label, fontsize=9)\n",
    "\n",
    "plt.title(\"🌾 Crop Clusters (PCA Projection)\")\n",
    "plt.xlabel(\"PCA Component 1\")\n",
    "plt.ylabel(\"PCA Component 2\")\n",
    "plt.grid(True)\n",
    "plt.show()"
   ]
  },
  {
   "cell_type": "code",
   "execution_count": 90,
   "id": "b557891a",
   "metadata": {},
   "outputs": [],
   "source": [
    "from mpl_toolkits.mplot3d import Axes3D  # enables 3D projection\n",
    "from sklearn.decomposition import PCA\n",
    "import matplotlib.pyplot as plt"
   ]
  },
  {
   "cell_type": "code",
   "execution_count": 96,
   "id": "1e7dcafa",
   "metadata": {},
   "outputs": [
    {
     "data": {
      "application/vnd.plotly.v1+json": {
       "config": {
        "plotlyServerURL": "https://plot.ly"
       },
       "data": [
        {
         "hovertemplate": "Cluster=0<br>PCA1=%{x}<br>PCA2=%{y}<br>PCA3=%{z}<br>Crop=%{text}<extra></extra>",
         "legendgroup": "0",
         "marker": {
          "color": "#636efa",
          "size": 6,
          "symbol": "circle"
         },
         "mode": "markers+text",
         "name": "0",
         "scene": "scene",
         "showlegend": true,
         "text": [
          "apple",
          "grapes"
         ],
         "textposition": "top center",
         "type": "scatter3d",
         "x": {
          "bdata": "CuOn0UxnCkA3UEfrNVcJQA==",
          "dtype": "f8"
         },
         "y": {
          "bdata": "xSwLNCUa+r8VRRMHZdj2vw==",
          "dtype": "f8"
         },
         "z": {
          "bdata": "kOylmhmYAsAIfFT9+cMBwA==",
          "dtype": "f8"
         }
        },
        {
         "hovertemplate": "Cluster=5<br>PCA1=%{x}<br>PCA2=%{y}<br>PCA3=%{z}<br>Crop=%{text}<extra></extra>",
         "legendgroup": "5",
         "marker": {
          "color": "#EF553B",
          "size": 6,
          "symbol": "circle"
         },
         "mode": "markers+text",
         "name": "5",
         "scene": "scene",
         "showlegend": true,
         "text": [
          "banana",
          "cotton",
          "maize",
          "muskmelon",
          "orange",
          "pomegranate",
          "watermelon"
         ],
         "textposition": "top center",
         "type": "scatter3d",
         "x": {
          "bdata": "MyC2mzlxyb8xQB1GMyrnv5byo9LD7LA/EjrVMqBS8b9dfX6F7B3WvzwhxEUCsNs//Po7byaA6L8=",
          "dtype": "f8"
         },
         "y": {
          "bdata": "/j6HWYgn1r9nIv4d0Aj9P+KVVUJ5sug/nNXcteCf8j93rcEZJpnmP08WlK3rrqk/CEg35Odo9T8=",
          "dtype": "f8"
         },
         "z": {
          "bdata": "UhVLL01N9L/hd1vcAkfhv7E7QLjr6sQ/l4aNPkR98L/8u05BOsvyPyyMWXynd/E/jh9xqnSs478=",
          "dtype": "f8"
         }
        },
        {
         "hovertemplate": "Cluster=3<br>PCA1=%{x}<br>PCA2=%{y}<br>PCA3=%{z}<br>Crop=%{text}<extra></extra>",
         "legendgroup": "3",
         "marker": {
          "color": "#00cc96",
          "size": 6,
          "symbol": "circle"
         },
         "mode": "markers+text",
         "name": "3",
         "scene": "scene",
         "showlegend": true,
         "text": [
          "blackgram",
          "lentil",
          "mothbeans",
          "mungbean"
         ],
         "textposition": "top center",
         "type": "scatter3d",
         "x": {
          "bdata": "j8lNPry547+lPcnBMAbZP4Sf5qVBG9y/yuPelynT478=",
          "dtype": "f8"
         },
         "y": {
          "bdata": "jRf0U+PC9j8mfMdisTT5Pzn+yQLfTOA/xLVNOOEl8j8=",
          "dtype": "f8"
         },
         "z": {
          "bdata": "sIGtuqfl5r99aFp3L2PSv6EDS/bRh+A/yNhcFkHf6r8=",
          "dtype": "f8"
         }
        },
        {
         "hovertemplate": "Cluster=1<br>PCA1=%{x}<br>PCA2=%{y}<br>PCA3=%{z}<br>Crop=%{text}<extra></extra>",
         "legendgroup": "1",
         "marker": {
          "color": "#ab63fa",
          "size": 6,
          "symbol": "circle"
         },
         "mode": "markers+text",
         "name": "1",
         "scene": "scene",
         "showlegend": true,
         "text": [
          "chickpea",
          "kidneybeans"
         ],
         "textposition": "top center",
         "type": "scatter3d",
         "x": {
          "bdata": "bcA42JXKCECVZxSg5g4DQA==",
          "dtype": "f8"
         },
         "y": {
          "bdata": "MWQ6sqfS/j8ISovhKz3RPw==",
          "dtype": "f8"
         },
         "z": {
          "bdata": "Ru86GQNOA0CxPwyIBosAQA==",
          "dtype": "f8"
         }
        },
        {
         "hovertemplate": "Cluster=2<br>PCA1=%{x}<br>PCA2=%{y}<br>PCA3=%{z}<br>Crop=%{text}<extra></extra>",
         "legendgroup": "2",
         "marker": {
          "color": "#FFA15A",
          "size": 6,
          "symbol": "circle"
         },
         "mode": "markers+text",
         "name": "2",
         "scene": "scene",
         "showlegend": true,
         "text": [
          "coconut",
          "mango",
          "papaya",
          "pigeonpeas"
         ],
         "textposition": "top center",
         "type": "scatter3d",
         "x": {
          "bdata": "4pfk35Cs8L/yvAGo+eTtvzrNpxzgk/q/RQPu+OwW0b8=",
          "dtype": "f8"
         },
         "y": {
          "bdata": "XNnam2wYAMBds481BDIEwJ9PmkbuwPS/LJzB2G9KBcA=",
          "dtype": "f8"
         },
         "z": {
          "bdata": "Xw1K1Dc97T/Nx3YFi5X7PwPH3uD7ROm/UoaCPNqN9j8=",
          "dtype": "f8"
         }
        },
        {
         "hovertemplate": "Cluster=4<br>PCA1=%{x}<br>PCA2=%{y}<br>PCA3=%{z}<br>Crop=%{text}<extra></extra>",
         "legendgroup": "4",
         "marker": {
          "color": "#19d3f3",
          "size": 6,
          "symbol": "circle"
         },
         "mode": "markers+text",
         "name": "4",
         "scene": "scene",
         "showlegend": true,
         "text": [
          "coffee",
          "jute",
          "rice"
         ],
         "textposition": "top center",
         "type": "scatter3d",
         "x": {
          "bdata": "a0WViWm9+r+VpAxc58Lzv3JlM76qyPO/",
          "dtype": "f8"
         },
         "y": {
          "bdata": "bTtHoKJxzj9sObg1sc/Av9396T60b+y/",
          "dtype": "f8"
         },
         "z": {
          "bdata": "Yckm7MbiuD925zw3Isfgv0llnmaVotq/",
          "dtype": "f8"
         }
        }
       ],
       "layout": {
        "height": 700,
        "legend": {
         "title": {
          "text": "Cluster"
         },
         "tracegroupgap": 0
        },
        "scene": {
         "domain": {
          "x": [
           0,
           1
          ],
          "y": [
           0,
           1
          ]
         },
         "xaxis": {
          "title": {
           "text": "PCA1"
          }
         },
         "yaxis": {
          "title": {
           "text": "PCA2"
          }
         },
         "zaxis": {
          "title": {
           "text": "PCA3"
          }
         }
        },
        "template": {
         "data": {
          "bar": [
           {
            "error_x": {
             "color": "#2a3f5f"
            },
            "error_y": {
             "color": "#2a3f5f"
            },
            "marker": {
             "line": {
              "color": "#E5ECF6",
              "width": 0.5
             },
             "pattern": {
              "fillmode": "overlay",
              "size": 10,
              "solidity": 0.2
             }
            },
            "type": "bar"
           }
          ],
          "barpolar": [
           {
            "marker": {
             "line": {
              "color": "#E5ECF6",
              "width": 0.5
             },
             "pattern": {
              "fillmode": "overlay",
              "size": 10,
              "solidity": 0.2
             }
            },
            "type": "barpolar"
           }
          ],
          "carpet": [
           {
            "aaxis": {
             "endlinecolor": "#2a3f5f",
             "gridcolor": "white",
             "linecolor": "white",
             "minorgridcolor": "white",
             "startlinecolor": "#2a3f5f"
            },
            "baxis": {
             "endlinecolor": "#2a3f5f",
             "gridcolor": "white",
             "linecolor": "white",
             "minorgridcolor": "white",
             "startlinecolor": "#2a3f5f"
            },
            "type": "carpet"
           }
          ],
          "choropleth": [
           {
            "colorbar": {
             "outlinewidth": 0,
             "ticks": ""
            },
            "type": "choropleth"
           }
          ],
          "contour": [
           {
            "colorbar": {
             "outlinewidth": 0,
             "ticks": ""
            },
            "colorscale": [
             [
              0,
              "#0d0887"
             ],
             [
              0.1111111111111111,
              "#46039f"
             ],
             [
              0.2222222222222222,
              "#7201a8"
             ],
             [
              0.3333333333333333,
              "#9c179e"
             ],
             [
              0.4444444444444444,
              "#bd3786"
             ],
             [
              0.5555555555555556,
              "#d8576b"
             ],
             [
              0.6666666666666666,
              "#ed7953"
             ],
             [
              0.7777777777777778,
              "#fb9f3a"
             ],
             [
              0.8888888888888888,
              "#fdca26"
             ],
             [
              1,
              "#f0f921"
             ]
            ],
            "type": "contour"
           }
          ],
          "contourcarpet": [
           {
            "colorbar": {
             "outlinewidth": 0,
             "ticks": ""
            },
            "type": "contourcarpet"
           }
          ],
          "heatmap": [
           {
            "colorbar": {
             "outlinewidth": 0,
             "ticks": ""
            },
            "colorscale": [
             [
              0,
              "#0d0887"
             ],
             [
              0.1111111111111111,
              "#46039f"
             ],
             [
              0.2222222222222222,
              "#7201a8"
             ],
             [
              0.3333333333333333,
              "#9c179e"
             ],
             [
              0.4444444444444444,
              "#bd3786"
             ],
             [
              0.5555555555555556,
              "#d8576b"
             ],
             [
              0.6666666666666666,
              "#ed7953"
             ],
             [
              0.7777777777777778,
              "#fb9f3a"
             ],
             [
              0.8888888888888888,
              "#fdca26"
             ],
             [
              1,
              "#f0f921"
             ]
            ],
            "type": "heatmap"
           }
          ],
          "histogram": [
           {
            "marker": {
             "pattern": {
              "fillmode": "overlay",
              "size": 10,
              "solidity": 0.2
             }
            },
            "type": "histogram"
           }
          ],
          "histogram2d": [
           {
            "colorbar": {
             "outlinewidth": 0,
             "ticks": ""
            },
            "colorscale": [
             [
              0,
              "#0d0887"
             ],
             [
              0.1111111111111111,
              "#46039f"
             ],
             [
              0.2222222222222222,
              "#7201a8"
             ],
             [
              0.3333333333333333,
              "#9c179e"
             ],
             [
              0.4444444444444444,
              "#bd3786"
             ],
             [
              0.5555555555555556,
              "#d8576b"
             ],
             [
              0.6666666666666666,
              "#ed7953"
             ],
             [
              0.7777777777777778,
              "#fb9f3a"
             ],
             [
              0.8888888888888888,
              "#fdca26"
             ],
             [
              1,
              "#f0f921"
             ]
            ],
            "type": "histogram2d"
           }
          ],
          "histogram2dcontour": [
           {
            "colorbar": {
             "outlinewidth": 0,
             "ticks": ""
            },
            "colorscale": [
             [
              0,
              "#0d0887"
             ],
             [
              0.1111111111111111,
              "#46039f"
             ],
             [
              0.2222222222222222,
              "#7201a8"
             ],
             [
              0.3333333333333333,
              "#9c179e"
             ],
             [
              0.4444444444444444,
              "#bd3786"
             ],
             [
              0.5555555555555556,
              "#d8576b"
             ],
             [
              0.6666666666666666,
              "#ed7953"
             ],
             [
              0.7777777777777778,
              "#fb9f3a"
             ],
             [
              0.8888888888888888,
              "#fdca26"
             ],
             [
              1,
              "#f0f921"
             ]
            ],
            "type": "histogram2dcontour"
           }
          ],
          "mesh3d": [
           {
            "colorbar": {
             "outlinewidth": 0,
             "ticks": ""
            },
            "type": "mesh3d"
           }
          ],
          "parcoords": [
           {
            "line": {
             "colorbar": {
              "outlinewidth": 0,
              "ticks": ""
             }
            },
            "type": "parcoords"
           }
          ],
          "pie": [
           {
            "automargin": true,
            "type": "pie"
           }
          ],
          "scatter": [
           {
            "fillpattern": {
             "fillmode": "overlay",
             "size": 10,
             "solidity": 0.2
            },
            "type": "scatter"
           }
          ],
          "scatter3d": [
           {
            "line": {
             "colorbar": {
              "outlinewidth": 0,
              "ticks": ""
             }
            },
            "marker": {
             "colorbar": {
              "outlinewidth": 0,
              "ticks": ""
             }
            },
            "type": "scatter3d"
           }
          ],
          "scattercarpet": [
           {
            "marker": {
             "colorbar": {
              "outlinewidth": 0,
              "ticks": ""
             }
            },
            "type": "scattercarpet"
           }
          ],
          "scattergeo": [
           {
            "marker": {
             "colorbar": {
              "outlinewidth": 0,
              "ticks": ""
             }
            },
            "type": "scattergeo"
           }
          ],
          "scattergl": [
           {
            "marker": {
             "colorbar": {
              "outlinewidth": 0,
              "ticks": ""
             }
            },
            "type": "scattergl"
           }
          ],
          "scattermap": [
           {
            "marker": {
             "colorbar": {
              "outlinewidth": 0,
              "ticks": ""
             }
            },
            "type": "scattermap"
           }
          ],
          "scattermapbox": [
           {
            "marker": {
             "colorbar": {
              "outlinewidth": 0,
              "ticks": ""
             }
            },
            "type": "scattermapbox"
           }
          ],
          "scatterpolar": [
           {
            "marker": {
             "colorbar": {
              "outlinewidth": 0,
              "ticks": ""
             }
            },
            "type": "scatterpolar"
           }
          ],
          "scatterpolargl": [
           {
            "marker": {
             "colorbar": {
              "outlinewidth": 0,
              "ticks": ""
             }
            },
            "type": "scatterpolargl"
           }
          ],
          "scatterternary": [
           {
            "marker": {
             "colorbar": {
              "outlinewidth": 0,
              "ticks": ""
             }
            },
            "type": "scatterternary"
           }
          ],
          "surface": [
           {
            "colorbar": {
             "outlinewidth": 0,
             "ticks": ""
            },
            "colorscale": [
             [
              0,
              "#0d0887"
             ],
             [
              0.1111111111111111,
              "#46039f"
             ],
             [
              0.2222222222222222,
              "#7201a8"
             ],
             [
              0.3333333333333333,
              "#9c179e"
             ],
             [
              0.4444444444444444,
              "#bd3786"
             ],
             [
              0.5555555555555556,
              "#d8576b"
             ],
             [
              0.6666666666666666,
              "#ed7953"
             ],
             [
              0.7777777777777778,
              "#fb9f3a"
             ],
             [
              0.8888888888888888,
              "#fdca26"
             ],
             [
              1,
              "#f0f921"
             ]
            ],
            "type": "surface"
           }
          ],
          "table": [
           {
            "cells": {
             "fill": {
              "color": "#EBF0F8"
             },
             "line": {
              "color": "white"
             }
            },
            "header": {
             "fill": {
              "color": "#C8D4E3"
             },
             "line": {
              "color": "white"
             }
            },
            "type": "table"
           }
          ]
         },
         "layout": {
          "annotationdefaults": {
           "arrowcolor": "#2a3f5f",
           "arrowhead": 0,
           "arrowwidth": 1
          },
          "autotypenumbers": "strict",
          "coloraxis": {
           "colorbar": {
            "outlinewidth": 0,
            "ticks": ""
           }
          },
          "colorscale": {
           "diverging": [
            [
             0,
             "#8e0152"
            ],
            [
             0.1,
             "#c51b7d"
            ],
            [
             0.2,
             "#de77ae"
            ],
            [
             0.3,
             "#f1b6da"
            ],
            [
             0.4,
             "#fde0ef"
            ],
            [
             0.5,
             "#f7f7f7"
            ],
            [
             0.6,
             "#e6f5d0"
            ],
            [
             0.7,
             "#b8e186"
            ],
            [
             0.8,
             "#7fbc41"
            ],
            [
             0.9,
             "#4d9221"
            ],
            [
             1,
             "#276419"
            ]
           ],
           "sequential": [
            [
             0,
             "#0d0887"
            ],
            [
             0.1111111111111111,
             "#46039f"
            ],
            [
             0.2222222222222222,
             "#7201a8"
            ],
            [
             0.3333333333333333,
             "#9c179e"
            ],
            [
             0.4444444444444444,
             "#bd3786"
            ],
            [
             0.5555555555555556,
             "#d8576b"
            ],
            [
             0.6666666666666666,
             "#ed7953"
            ],
            [
             0.7777777777777778,
             "#fb9f3a"
            ],
            [
             0.8888888888888888,
             "#fdca26"
            ],
            [
             1,
             "#f0f921"
            ]
           ],
           "sequentialminus": [
            [
             0,
             "#0d0887"
            ],
            [
             0.1111111111111111,
             "#46039f"
            ],
            [
             0.2222222222222222,
             "#7201a8"
            ],
            [
             0.3333333333333333,
             "#9c179e"
            ],
            [
             0.4444444444444444,
             "#bd3786"
            ],
            [
             0.5555555555555556,
             "#d8576b"
            ],
            [
             0.6666666666666666,
             "#ed7953"
            ],
            [
             0.7777777777777778,
             "#fb9f3a"
            ],
            [
             0.8888888888888888,
             "#fdca26"
            ],
            [
             1,
             "#f0f921"
            ]
           ]
          },
          "colorway": [
           "#636efa",
           "#EF553B",
           "#00cc96",
           "#ab63fa",
           "#FFA15A",
           "#19d3f3",
           "#FF6692",
           "#B6E880",
           "#FF97FF",
           "#FECB52"
          ],
          "font": {
           "color": "#2a3f5f"
          },
          "geo": {
           "bgcolor": "white",
           "lakecolor": "white",
           "landcolor": "#E5ECF6",
           "showlakes": true,
           "showland": true,
           "subunitcolor": "white"
          },
          "hoverlabel": {
           "align": "left"
          },
          "hovermode": "closest",
          "mapbox": {
           "style": "light"
          },
          "paper_bgcolor": "white",
          "plot_bgcolor": "#E5ECF6",
          "polar": {
           "angularaxis": {
            "gridcolor": "white",
            "linecolor": "white",
            "ticks": ""
           },
           "bgcolor": "#E5ECF6",
           "radialaxis": {
            "gridcolor": "white",
            "linecolor": "white",
            "ticks": ""
           }
          },
          "scene": {
           "xaxis": {
            "backgroundcolor": "#E5ECF6",
            "gridcolor": "white",
            "gridwidth": 2,
            "linecolor": "white",
            "showbackground": true,
            "ticks": "",
            "zerolinecolor": "white"
           },
           "yaxis": {
            "backgroundcolor": "#E5ECF6",
            "gridcolor": "white",
            "gridwidth": 2,
            "linecolor": "white",
            "showbackground": true,
            "ticks": "",
            "zerolinecolor": "white"
           },
           "zaxis": {
            "backgroundcolor": "#E5ECF6",
            "gridcolor": "white",
            "gridwidth": 2,
            "linecolor": "white",
            "showbackground": true,
            "ticks": "",
            "zerolinecolor": "white"
           }
          },
          "shapedefaults": {
           "line": {
            "color": "#2a3f5f"
           }
          },
          "ternary": {
           "aaxis": {
            "gridcolor": "white",
            "linecolor": "white",
            "ticks": ""
           },
           "baxis": {
            "gridcolor": "white",
            "linecolor": "white",
            "ticks": ""
           },
           "bgcolor": "#E5ECF6",
           "caxis": {
            "gridcolor": "white",
            "linecolor": "white",
            "ticks": ""
           }
          },
          "title": {
           "x": 0.05
          },
          "xaxis": {
           "automargin": true,
           "gridcolor": "white",
           "linecolor": "white",
           "ticks": "",
           "title": {
            "standoff": 15
           },
           "zerolinecolor": "white",
           "zerolinewidth": 2
          },
          "yaxis": {
           "automargin": true,
           "gridcolor": "white",
           "linecolor": "white",
           "ticks": "",
           "title": {
            "standoff": 15
           },
           "zerolinecolor": "white",
           "zerolinewidth": 2
          }
         }
        },
        "title": {
         "text": "Interactive 3D Crop Clustering (PCA)"
        },
        "width": 900
       }
      }
     },
     "metadata": {},
     "output_type": "display_data"
    }
   ],
   "source": [
    "import plotly.express as px\n",
    "from sklearn.decomposition import PCA\n",
    "import pandas as pd\n",
    "\n",
    "# Redo 3D PCA\n",
    "pca_3d = PCA(n_components=3)\n",
    "X_pca_3d = pca_3d.fit_transform(X_avg_scaled)\n",
    "\n",
    "# Make sure 'cluster' is present and index matches the crop names\n",
    "plot_df = pd.DataFrame(X_pca_3d, columns=[\"PCA1\", \"PCA2\", \"PCA3\"])\n",
    "plot_df[\"Crop\"] = avg_df.index\n",
    "plot_df[\"Cluster\"] = avg_df[\"cluster\"].astype(str).values  # 💡 fix here!\n",
    "\n",
    "# Interactive 3D scatter\n",
    "fig = px.scatter_3d(\n",
    "    plot_df,\n",
    "    x=\"PCA1\", y=\"PCA2\", z=\"PCA3\",\n",
    "    color=\"Cluster\",               # ✅ each cluster will get a different color\n",
    "    text=\"Crop\",\n",
    "    title=\"Interactive 3D Crop Clustering (PCA)\",\n",
    "    width=900, height=700\n",
    ")\n",
    "\n",
    "fig.update_traces(marker=dict(size=6), textposition=\"top center\")\n",
    "fig.update_layout(legend_title_text=\"Cluster\")\n",
    "\n",
    "fig.show()"
   ]
  }
 ],
 "metadata": {
  "kernelspec": {
   "display_name": "Python 3",
   "language": "python",
   "name": "python3"
  },
  "language_info": {
   "codemirror_mode": {
    "name": "ipython",
    "version": 3
   },
   "file_extension": ".py",
   "mimetype": "text/x-python",
   "name": "python",
   "nbconvert_exporter": "python",
   "pygments_lexer": "ipython3",
   "version": "3.9.6"
  }
 },
 "nbformat": 4,
 "nbformat_minor": 5
}
